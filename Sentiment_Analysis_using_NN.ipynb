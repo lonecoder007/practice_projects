{
  "nbformat": 4,
  "nbformat_minor": 0,
  "metadata": {
    "colab": {
      "name": "Sentiment Analysis using NN.ipynb",
      "provenance": [],
      "private_outputs": true,
      "authorship_tag": "ABX9TyNDJQrqO2KC8+5KgXQe0iNI",
      "include_colab_link": true
    },
    "kernelspec": {
      "name": "python3",
      "display_name": "Python 3"
    },
    "accelerator": "TPU"
  },
  "cells": [
    {
      "cell_type": "markdown",
      "metadata": {
        "id": "view-in-github",
        "colab_type": "text"
      },
      "source": [
        "<a href=\"https://colab.research.google.com/github/lonecoder007/practice_projects/blob/master/Sentiment_Analysis_using_NN.ipynb\" target=\"_parent\"><img src=\"https://colab.research.google.com/assets/colab-badge.svg\" alt=\"Open In Colab\"/></a>"
      ]
    },
    {
      "cell_type": "code",
      "metadata": {
        "id": "BSbRl4rD2AJv",
        "colab_type": "code",
        "colab": {}
      },
      "source": [
        "from keras.datasets import imdb\n",
        "import numpy as np\n"
      ],
      "execution_count": null,
      "outputs": []
    },
    {
      "cell_type": "markdown",
      "metadata": {
        "id": "AFy0Mzl12bxJ",
        "colab_type": "text"
      },
      "source": [
        "# ***Data*** ***Preparation***"
      ]
    },
    {
      "cell_type": "code",
      "metadata": {
        "id": "27ZCQWUa2W9d",
        "colab_type": "code",
        "colab": {}
      },
      "source": [
        "((x_train,y_train),(x_test,y_test))=imdb.load_data(num_words=10000)"
      ],
      "execution_count": null,
      "outputs": []
    },
    {
      "cell_type": "code",
      "metadata": {
        "id": "xfdQ8ltr3HsD",
        "colab_type": "code",
        "colab": {}
      },
      "source": [
        "print(len(x_train),len(x_test))"
      ],
      "execution_count": null,
      "outputs": []
    },
    {
      "cell_type": "code",
      "metadata": {
        "id": "5AtskgYB3Qpt",
        "colab_type": "code",
        "colab": {}
      },
      "source": [
        "print(x_train[0])"
      ],
      "execution_count": null,
      "outputs": []
    },
    {
      "cell_type": "code",
      "metadata": {
        "id": "oJwNCe133fWx",
        "colab_type": "code",
        "colab": {}
      },
      "source": [
        "word=imdb.get_word_index()"
      ],
      "execution_count": null,
      "outputs": []
    },
    {
      "cell_type": "code",
      "metadata": {
        "id": "8hwAQNT-32nL",
        "colab_type": "code",
        "colab": {}
      },
      "source": [
        "print(word.items())"
      ],
      "execution_count": null,
      "outputs": []
    },
    {
      "cell_type": "code",
      "metadata": {
        "id": "-vPAPGyR3_wP",
        "colab_type": "code",
        "colab": {}
      },
      "source": [
        "idx_words=dict([value,key] for (key,value) in word.items())"
      ],
      "execution_count": null,
      "outputs": []
    },
    {
      "cell_type": "code",
      "metadata": {
        "id": "yrh-I4bH4WxN",
        "colab_type": "code",
        "colab": {}
      },
      "source": [
        "idx_words"
      ],
      "execution_count": null,
      "outputs": []
    },
    {
      "cell_type": "code",
      "metadata": {
        "id": "szd_cXzQ4YMv",
        "colab_type": "code",
        "colab": {}
      },
      "source": [
        "actual_review= \" \".join([idx_words.get(idx-3,'#') for idx in x_train[0]])"
      ],
      "execution_count": null,
      "outputs": []
    },
    {
      "cell_type": "code",
      "metadata": {
        "id": "STFus9LQ5pb1",
        "colab_type": "code",
        "colab": {}
      },
      "source": [
        "actual_review"
      ],
      "execution_count": null,
      "outputs": []
    },
    {
      "cell_type": "code",
      "metadata": {
        "id": "AX3UfHu_51oM",
        "colab_type": "code",
        "colab": {}
      },
      "source": [
        "## next step-- vectorize the data\n",
        "## vocab size-10,000 , every sentence is reprented by a vector of len 10,000 \n",
        "\n",
        "def vectorize_sent(sent,dim=10000):\n",
        "  output= np.zeros((len(sent),dim))\n",
        "  for i ,idx in enumerate(sent):\n",
        "    output[i,idx]=1\n",
        "  return output"
      ],
      "execution_count": null,
      "outputs": []
    },
    {
      "cell_type": "code",
      "metadata": {
        "id": "R3B6Wuab75KM",
        "colab_type": "code",
        "colab": {}
      },
      "source": [
        "x_train=vectorize_sent(x_train)"
      ],
      "execution_count": null,
      "outputs": []
    },
    {
      "cell_type": "code",
      "metadata": {
        "id": "L_acOAcx8BDZ",
        "colab_type": "code",
        "colab": {}
      },
      "source": [
        "x_test=vectorize_sent(x_test)"
      ],
      "execution_count": null,
      "outputs": []
    },
    {
      "cell_type": "code",
      "metadata": {
        "id": "qcf34Zjy8Rmo",
        "colab_type": "code",
        "colab": {}
      },
      "source": [
        "y_train=np.array(y_train).astype('float32')\n",
        "y_test=np.array(y_test).astype('float32')"
      ],
      "execution_count": null,
      "outputs": []
    },
    {
      "cell_type": "markdown",
      "metadata": {
        "id": "vF06OxRd-KoD",
        "colab_type": "text"
      },
      "source": [
        "# Building and compiling NN"
      ]
    },
    {
      "cell_type": "markdown",
      "metadata": {
        "id": "QD9PE8E8_A39",
        "colab_type": "text"
      },
      "source": [
        "### **Define your model architecture**\n",
        "    \n",
        "\n",
        "*   use fully connected/dense layer with Relu activation\n",
        "\n",
        "*   3 hidden layer with 16-16-8 units\n",
        "\n",
        "*   1 unit outpyt layer(sigmoid activation)\n",
        "\n",
        "\n"
      ]
    },
    {
      "cell_type": "code",
      "metadata": {
        "id": "UsfHdJV29Kg2",
        "colab_type": "code",
        "colab": {}
      },
      "source": [
        "from keras import models\n",
        "from keras.layers import Dense"
      ],
      "execution_count": null,
      "outputs": []
    },
    {
      "cell_type": "code",
      "metadata": {
        "id": "meIQmrOnALM_",
        "colab_type": "code",
        "colab": {}
      },
      "source": [
        "model=models.Sequential()\n",
        "model.add(Dense(8,activation='relu',input_shape=(10000,)))\n",
        "model.add(Dense(8,activation='relu'))\n",
        "model.add(Dense(8,activation='relu'))\n",
        "model.add(Dense(1,activation='sigmoid'))"
      ],
      "execution_count": null,
      "outputs": []
    },
    {
      "cell_type": "code",
      "metadata": {
        "id": "emU-ddC-A7Mo",
        "colab_type": "code",
        "colab": {}
      },
      "source": [
        "# Compile\n",
        "model.compile(optimizer='rmsprop',loss='binary_crossentropy',metrics=['accuracy'])"
      ],
      "execution_count": null,
      "outputs": []
    },
    {
      "cell_type": "code",
      "metadata": {
        "id": "k9_7GymZB-u5",
        "colab_type": "code",
        "colab": {}
      },
      "source": [
        "model.summary()"
      ],
      "execution_count": null,
      "outputs": []
    },
    {
      "cell_type": "markdown",
      "metadata": {
        "id": "LRBV8AGACd0C",
        "colab_type": "text"
      },
      "source": [
        "## Training and Validation"
      ]
    },
    {
      "cell_type": "code",
      "metadata": {
        "id": "WXfAJkwvCIm7",
        "colab_type": "code",
        "colab": {}
      },
      "source": [
        "x_valid=x_train[:5000]\n",
        "x_train_new=x_train[5000:]\n",
        "y_valid=y_train[:5000]\n",
        "y_train_new=y_train[5000:]"
      ],
      "execution_count": null,
      "outputs": []
    },
    {
      "cell_type": "code",
      "metadata": {
        "id": "lxKSO-adD2Qe",
        "colab_type": "code",
        "colab": {}
      },
      "source": [
        "hist=model.fit(x_train_new,y_train_new,epochs=4,batch_size=512,validation_data=(x_valid,y_valid))"
      ],
      "execution_count": null,
      "outputs": []
    },
    {
      "cell_type": "markdown",
      "metadata": {
        "id": "3myrz-bUEsQH",
        "colab_type": "text"
      },
      "source": [
        "## Visualise our results\n"
      ]
    },
    {
      "cell_type": "code",
      "metadata": {
        "id": "c9G9XqxZEetO",
        "colab_type": "code",
        "colab": {}
      },
      "source": [
        "import matplotlib.pyplot as plt\n"
      ],
      "execution_count": null,
      "outputs": []
    },
    {
      "cell_type": "code",
      "metadata": {
        "id": "hvi9mGtnE1Sf",
        "colab_type": "code",
        "colab": {}
      },
      "source": [
        "h=hist.history"
      ],
      "execution_count": null,
      "outputs": []
    },
    {
      "cell_type": "code",
      "metadata": {
        "id": "bj_SlPTrE4S4",
        "colab_type": "code",
        "colab": {}
      },
      "source": [
        "plt.figure(figsize=(10,10))\n",
        "plt.style.use('seaborn')\n",
        "plt.plot(h['val_loss'],label='Validation Loss')\n",
        "plt.plot(h['loss'],label='Training Loss')\n",
        "plt.xlabel('Epochs')\n",
        "plt.ylabel('Loss')\n",
        "plt.legend()\n",
        "plt.show()"
      ],
      "execution_count": null,
      "outputs": []
    },
    {
      "cell_type": "code",
      "metadata": {
        "id": "tMLUTNQ2FvCY",
        "colab_type": "code",
        "colab": {}
      },
      "source": [
        "plt.plot(h['val_accuracy'],label='Validation Acc')\n",
        "plt.plot(h['accuracy'],label='Training Acc')\n",
        "plt.xlabel('Epochs')\n",
        "plt.ylabel('Accuracy')\n",
        "plt.legend()\n",
        "plt.show()"
      ],
      "execution_count": null,
      "outputs": []
    },
    {
      "cell_type": "code",
      "metadata": {
        "id": "piMupv1kGZhm",
        "colab_type": "code",
        "colab": {}
      },
      "source": [
        "model.evaluate(x_test,y_test)[1]"
      ],
      "execution_count": null,
      "outputs": []
    },
    {
      "cell_type": "code",
      "metadata": {
        "id": "wTd6JFCkGoZw",
        "colab_type": "code",
        "colab": {}
      },
      "source": [
        ""
      ],
      "execution_count": null,
      "outputs": []
    }
  ]
}